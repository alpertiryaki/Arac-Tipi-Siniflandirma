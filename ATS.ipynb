{
 "cells": [
  {
   "cell_type": "markdown",
   "metadata": {},
   "source": [
    "# Araç Tipi Sınıflandırma"
   ]
  },
  {
   "cell_type": "markdown",
   "metadata": {},
   "source": [
    "### Hazırlayanlar;"
   ]
  },
  {
   "cell_type": "markdown",
   "metadata": {},
   "source": [
    "Aysu Çetin, \n",
    "Ali Haydar Kaplan, \n",
    "Alper Tiryaki"
   ]
  },
  {
   "cell_type": "markdown",
   "metadata": {},
   "source": [
    "Projemiz 2020 Ocak ayını kapsayıp 31 veri setinden üzerinden oluşturulmuştur. Ancak temsili olması dolayısıyla bu sayfada sadece ilk gün uygulamasını yapacağız."
   ]
  },
  {
   "cell_type": "code",
   "execution_count": null,
   "metadata": {},
   "outputs": [],
   "source": [
    "import numpy as np\n",
    "import pandas as pd\n",
    "from datetime import datetime\n",
    "import warnings\n",
    "import pygeohash as pgh"
   ]
  },
  {
   "cell_type": "code",
   "execution_count": null,
   "metadata": {},
   "outputs": [],
   "source": [
    "df = pd.read_csv(\"OneDrive/Masaüstü/ats/ats_01_01.csv\", sep = ';' ,header = 'infer')"
   ]
  },
  {
   "cell_type": "code",
   "execution_count": null,
   "metadata": {},
   "outputs": [],
   "source": [
    "df[[\"XCOORD\",\"YCOORD\",\"RAWSPEED\",\"RAWDATE\",\"SEGID\",\"VEHICLEID\"]] = df['XCOORD,\"YCOORD\",\"RAWSPEED\",\"RAWDATE\",\"SEGID\",\"VEHICLEID\"'].str.split(\",\", expand = True)\n",
    "\n",
    "df.drop(columns ='XCOORD,\"YCOORD\",\"RAWSPEED\",\"RAWDATE\",\"SEGID\",\"VEHICLEID\"', inplace = True )"
   ]
  },
  {
   "cell_type": "code",
   "execution_count": null,
   "metadata": {},
   "outputs": [],
   "source": [
    "df[['YCOORD', 'XCOORD']] = df[['XCOORD', 'YCOORD']]"
   ]
  },
  {
   "cell_type": "code",
   "execution_count": null,
   "metadata": {},
   "outputs": [],
   "source": [
    "df.columns = ('YCOORD', 'XCOORD','RAWSPEED', 'RAWDATE', 'SEGID', 'VEHICLEID')"
   ]
  },
  {
   "cell_type": "markdown",
   "metadata": {},
   "source": [
    " "
   ]
  },
  {
   "cell_type": "markdown",
   "metadata": {},
   "source": [
    "## Eksik Veri Analizi"
   ]
  },
  {
   "cell_type": "markdown",
   "metadata": {},
   "source": [
    "X ve Y koordinatları kullanılarak Coğrafi Bilgi Sistemlerinden geohash değerlerini oluşturulacağız ve köprülerden geçiş bilgilerine erişeceğiz. Bu yüzden eksik veri analizi için öncelikli olarak XCOORD ve YCOORD değişkenlerini inceliyoruz."
   ]
  },
  {
   "cell_type": "code",
   "execution_count": null,
   "metadata": {},
   "outputs": [],
   "source": [
    "df[\"XCOORD\"].isna().value_counts()"
   ]
  },
  {
   "cell_type": "code",
   "execution_count": null,
   "metadata": {},
   "outputs": [],
   "source": [
    "df[\"YCOORD\"].isna().value_counts()"
   ]
  },
  {
   "cell_type": "code",
   "execution_count": null,
   "metadata": {},
   "outputs": [],
   "source": [
    "df['geohash']=df.apply(lambda x: pgh.encode(float(x.YCOORD), float(x.XCOORD), precision=6), axis=1)"
   ]
  },
  {
   "cell_type": "markdown",
   "metadata": {},
   "source": [
    "* 15 Temmuz Şehitler Köprüsü"
   ]
  },
  {
   "cell_type": "markdown",
   "metadata": {},
   "source": [
    "Başlangıç:"
   ]
  },
  {
   "cell_type": "code",
   "execution_count": null,
   "metadata": {
    "scrolled": true
   },
   "outputs": [],
   "source": [
    "pgh.encode(41.043356, 29.036328, precision=6)"
   ]
  },
  {
   "cell_type": "markdown",
   "metadata": {},
   "source": [
    "Bitiş:"
   ]
  },
  {
   "cell_type": "code",
   "execution_count": null,
   "metadata": {
    "scrolled": true
   },
   "outputs": [],
   "source": [
    "pgh.encode(41.048013, 29.031479, precision=6)"
   ]
  },
  {
   "cell_type": "markdown",
   "metadata": {},
   "source": [
    "* Fatih Sultan Mehmet Köprüsü"
   ]
  },
  {
   "cell_type": "markdown",
   "metadata": {},
   "source": [
    "Başlangıç:"
   ]
  },
  {
   "cell_type": "code",
   "execution_count": null,
   "metadata": {
    "scrolled": true
   },
   "outputs": [],
   "source": [
    "pgh.encode(41.091459, 29.065769, precision=6)"
   ]
  },
  {
   "cell_type": "code",
   "execution_count": null,
   "metadata": {
    "scrolled": false
   },
   "outputs": [],
   "source": [
    "pgh.encode(41.091572, 29.065426, precision=6)"
   ]
  },
  {
   "cell_type": "markdown",
   "metadata": {},
   "source": [
    "Bitiş:"
   ]
  },
  {
   "cell_type": "code",
   "execution_count": null,
   "metadata": {},
   "outputs": [],
   "source": [
    "pgh.encode(41.091038, 29.057261, precision=6)"
   ]
  },
  {
   "cell_type": "code",
   "execution_count": null,
   "metadata": {
    "scrolled": true
   },
   "outputs": [],
   "source": [
    "pgh.encode(41.091224, 29.057433, precision=6)"
   ]
  },
  {
   "cell_type": "markdown",
   "metadata": {},
   "source": [
    "* Yavuz Sultan Selim Köprüsü"
   ]
  },
  {
   "cell_type": "markdown",
   "metadata": {},
   "source": [
    "Başlangıç:"
   ]
  },
  {
   "cell_type": "code",
   "execution_count": null,
   "metadata": {},
   "outputs": [],
   "source": [
    "pgh.encode(41.200106, 29.118037, precision=6)"
   ]
  },
  {
   "cell_type": "code",
   "execution_count": null,
   "metadata": {},
   "outputs": [],
   "source": [
    "pgh.encode(41.200605, 29.117578, precision=6)"
   ]
  },
  {
   "cell_type": "markdown",
   "metadata": {},
   "source": [
    "Bitiş:"
   ]
  },
  {
   "cell_type": "code",
   "execution_count": null,
   "metadata": {
    "scrolled": true
   },
   "outputs": [],
   "source": [
    "pgh.encode(41.205194, 29.106605, precision=6)"
   ]
  },
  {
   "cell_type": "code",
   "execution_count": null,
   "metadata": {},
   "outputs": [],
   "source": [
    "pgh.encode(41.205309, 29.107039, precision=6)"
   ]
  },
  {
   "cell_type": "code",
   "execution_count": null,
   "metadata": {},
   "outputs": [],
   "source": []
  },
  {
   "cell_type": "code",
   "execution_count": null,
   "metadata": {},
   "outputs": [],
   "source": [
    "filt15gs = ((df[\"geohash\"] == \"sxk9kx\") | (df[\"geohash\"] == \"sxk9s8\"))\n",
    "df_15 = df[filt15gs]\n",
    "\n",
    "df_15[\"konum\"] = \"15temmuz\""
   ]
  },
  {
   "cell_type": "code",
   "execution_count": null,
   "metadata": {
    "scrolled": true
   },
   "outputs": [],
   "source": [
    "filtfsm = ((df[\"geohash\"] == \"sxk9v2\") | (df[\"geohash\"] == \"sxk9v0\"))\n",
    "df_fsm = df[filtfsm]\n",
    "\n",
    "df_fsm[\"konum\"] = \"fsm\""
   ]
  },
  {
   "cell_type": "code",
   "execution_count": null,
   "metadata": {
    "scrolled": true
   },
   "outputs": [],
   "source": [
    "filtyvz = ((df[\"geohash\"] == \"sxkdqs\") | (df[\"geohash\"] == \"sxkdqm\"))\n",
    "df_yvz = df[filtyvz]\n",
    "\n",
    "df_yvz[\"konum\"] = \"yavuzsultanselim\""
   ]
  },
  {
   "cell_type": "code",
   "execution_count": null,
   "metadata": {},
   "outputs": [],
   "source": [
    "df_k = pd.DataFrame(np.concatenate((df_15, df_fsm, df_yvz) , \n",
    "                                   axis = 0), \n",
    "                                columns = ('YCOORD', 'XCOORD','RAWSPEED', 'RAWDATE', 'SEGID', 'VEHICLEID', 'geohash', 'konum'))"
   ]
  },
  {
   "cell_type": "code",
   "execution_count": null,
   "metadata": {},
   "outputs": [],
   "source": [
    "df_k"
   ]
  },
  {
   "cell_type": "code",
   "execution_count": null,
   "metadata": {},
   "outputs": [],
   "source": [
    "df_k[\"VEHICLEID\"] = df_k[\"VEHICLEID\"].str.strip('\"')"
   ]
  },
  {
   "cell_type": "code",
   "execution_count": null,
   "metadata": {},
   "outputs": [],
   "source": []
  },
  {
   "cell_type": "code",
   "execution_count": null,
   "metadata": {},
   "outputs": [],
   "source": [
    "%%time\n",
    "dfs = {}\n",
    "\n",
    "for e in df_k[\"VEHICLEID\"].unique():\n",
    "    filt = (df_k[\"VEHICLEID\"] == e)\n",
    "    fknm = df_k[filt][\"konum\"]\n",
    "    \n",
    "    if np.any(fknm == \"15temmuz\"):\n",
    "        dfs[e] = {\"VEHICLEID\": e, \"type\": \"hafif araç\"}\n",
    "    \n",
    "    elif np.any(fknm == \"fsm\"):\n",
    "        dfs[e] = {\"VEHICLEID\": e, \"type\": \"hafif araç\"}\n",
    "    \n",
    "    elif np.all(fknm == \"yavuzsultanselim\"):\n",
    "        dfs[e] = {\"VEHICLEID\": e,\"type\": \"ağır araç\"}"
   ]
  },
  {
   "cell_type": "code",
   "execution_count": null,
   "metadata": {},
   "outputs": [],
   "source": [
    "dfs = pd.DataFrame(dfs)\n",
    "dfs = dfs.T"
   ]
  },
  {
   "cell_type": "code",
   "execution_count": null,
   "metadata": {},
   "outputs": [],
   "source": [
    "dfs[\"type\"].value_counts()"
   ]
  },
  {
   "cell_type": "code",
   "execution_count": null,
   "metadata": {},
   "outputs": [],
   "source": [
    "dfs"
   ]
  },
  {
   "cell_type": "code",
   "execution_count": null,
   "metadata": {},
   "outputs": [],
   "source": []
  },
  {
   "cell_type": "code",
   "execution_count": null,
   "metadata": {},
   "outputs": [],
   "source": []
  }
 ],
 "metadata": {
  "kernelspec": {
   "display_name": "Python 3",
   "language": "python",
   "name": "python3"
  },
  "language_info": {
   "codemirror_mode": {
    "name": "ipython",
    "version": 3
   },
   "file_extension": ".py",
   "mimetype": "text/x-python",
   "name": "python",
   "nbconvert_exporter": "python",
   "pygments_lexer": "ipython3",
   "version": "3.7.4"
  }
 },
 "nbformat": 4,
 "nbformat_minor": 2
}
